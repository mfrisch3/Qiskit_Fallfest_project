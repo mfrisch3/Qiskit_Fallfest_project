{
 "cells": [
  {
   "cell_type": "code",
   "execution_count": 2,
   "metadata": {},
   "outputs": [
    {
     "ename": "ModuleNotFoundError",
     "evalue": "No module named 'qiskit_nature'",
     "output_type": "error",
     "traceback": [
      "\u001b[1;31m---------------------------------------------------------------------------\u001b[0m",
      "\u001b[1;31mModuleNotFoundError\u001b[0m                       Traceback (most recent call last)",
      "\u001b[1;32mc:\\Users\\mattf\\OneDrive\\Qiskit\\Project\\Qiskit_project.ipynb Cell 1\u001b[0m line \u001b[0;36m3\n\u001b[0;32m     <a href='vscode-notebook-cell:/c%3A/Users/mattf/OneDrive/Qiskit/Project/Qiskit_project.ipynb#W0sZmlsZQ%3D%3D?line=34'>35</a>\u001b[0m \u001b[39m# Example usage:\u001b[39;00m\n\u001b[0;32m     <a href='vscode-notebook-cell:/c%3A/Users/mattf/OneDrive/Qiskit/Project/Qiskit_project.ipynb#W0sZmlsZQ%3D%3D?line=35'>36</a>\u001b[0m atom_config \u001b[39m=\u001b[39m \u001b[39m'\u001b[39m\u001b[39mLi .0 .0 .0\u001b[39m\u001b[39m'\u001b[39m\n\u001b[1;32m---> <a href='vscode-notebook-cell:/c%3A/Users/mattf/OneDrive/Qiskit/Project/Qiskit_project.ipynb#W0sZmlsZQ%3D%3D?line=36'>37</a>\u001b[0m energy \u001b[39m=\u001b[39m compute_ground_state(atom_config)\n\u001b[0;32m     <a href='vscode-notebook-cell:/c%3A/Users/mattf/OneDrive/Qiskit/Project/Qiskit_project.ipynb#W0sZmlsZQ%3D%3D?line=37'>38</a>\u001b[0m \u001b[39mprint\u001b[39m(\u001b[39mf\u001b[39m\u001b[39m\"\u001b[39m\u001b[39mGround state energy for \u001b[39m\u001b[39m{\u001b[39;00matom_config\u001b[39m}\u001b[39;00m\u001b[39m: \u001b[39m\u001b[39m{\u001b[39;00menergy\u001b[39m:\u001b[39;00m\u001b[39m.4f\u001b[39m\u001b[39m}\u001b[39;00m\u001b[39m\"\u001b[39m)\n",
      "\u001b[1;32mc:\\Users\\mattf\\OneDrive\\Qiskit\\Project\\Qiskit_project.ipynb Cell 1\u001b[0m line \u001b[0;36m9\n\u001b[0;32m      <a href='vscode-notebook-cell:/c%3A/Users/mattf/OneDrive/Qiskit/Project/Qiskit_project.ipynb#W0sZmlsZQ%3D%3D?line=6'>7</a>\u001b[0m \u001b[39mfrom\u001b[39;00m \u001b[39mqiskit\u001b[39;00m\u001b[39m.\u001b[39;00m\u001b[39malgorithms\u001b[39;00m\u001b[39m.\u001b[39;00m\u001b[39moptimizers\u001b[39;00m \u001b[39mimport\u001b[39;00m COBYLA\n\u001b[0;32m      <a href='vscode-notebook-cell:/c%3A/Users/mattf/OneDrive/Qiskit/Project/Qiskit_project.ipynb#W0sZmlsZQ%3D%3D?line=7'>8</a>\u001b[0m \u001b[39mfrom\u001b[39;00m \u001b[39mqiskit\u001b[39;00m\u001b[39m.\u001b[39;00m\u001b[39mcircuit\u001b[39;00m\u001b[39m.\u001b[39;00m\u001b[39mlibrary\u001b[39;00m \u001b[39mimport\u001b[39;00m EfficientSU2\n\u001b[1;32m----> <a href='vscode-notebook-cell:/c%3A/Users/mattf/OneDrive/Qiskit/Project/Qiskit_project.ipynb#W0sZmlsZQ%3D%3D?line=8'>9</a>\u001b[0m \u001b[39mfrom\u001b[39;00m \u001b[39mqiskit_nature\u001b[39;00m\u001b[39m.\u001b[39;00m\u001b[39mdrivers\u001b[39;00m \u001b[39mimport\u001b[39;00m PySCFDriver\n\u001b[0;32m     <a href='vscode-notebook-cell:/c%3A/Users/mattf/OneDrive/Qiskit/Project/Qiskit_project.ipynb#W0sZmlsZQ%3D%3D?line=9'>10</a>\u001b[0m \u001b[39mfrom\u001b[39;00m \u001b[39mqiskit_nature\u001b[39;00m\u001b[39m.\u001b[39;00m\u001b[39mproblems\u001b[39;00m\u001b[39m.\u001b[39;00m\u001b[39msecond_quantization\u001b[39;00m\u001b[39m.\u001b[39;00m\u001b[39melectronic\u001b[39;00m \u001b[39mimport\u001b[39;00m ElectronicStructureProblem\n\u001b[0;32m     <a href='vscode-notebook-cell:/c%3A/Users/mattf/OneDrive/Qiskit/Project/Qiskit_project.ipynb#W0sZmlsZQ%3D%3D?line=10'>11</a>\u001b[0m \u001b[39mfrom\u001b[39;00m \u001b[39mqiskit_nature\u001b[39;00m\u001b[39m.\u001b[39;00m\u001b[39mmappers\u001b[39;00m\u001b[39m.\u001b[39;00m\u001b[39msecond_quantization\u001b[39;00m \u001b[39mimport\u001b[39;00m ParityMapper, BravyiKitaevMapper\n",
      "\u001b[1;31mModuleNotFoundError\u001b[0m: No module named 'qiskit_nature'"
     ]
    }
   ],
   "source": [
    "def compute_ground_state(atom_string):\n",
    "    import numpy as np\n",
    "    from qiskit import Aer\n",
    "    from qiskit.opflow import PauliSumOp\n",
    "    from qiskit.utils import QuantumInstance\n",
    "    from qiskit.algorithms import VQE\n",
    "    from qiskit.algorithms.optimizers import COBYLA\n",
    "    from qiskit.circuit.library import EfficientSU2\n",
    "    from qiskit_nature.drivers import PySCFDriver\n",
    "    from qiskit_nature.problems.second_quantization.electronic import ElectronicStructureProblem\n",
    "    from qiskit_nature.mappers.second_quantization import ParityMapper, BravyiKitaevMapper\n",
    "    from qiskit_nature.converters.second_quantization.qubit_converter import QubitConverter\n",
    "\n",
    "    # 1. Set up the electronic structure problem\n",
    "    driver = PySCFDriver(atom=atom_string, unit='Angstrom', basis='sto3g')\n",
    "    problem = ElectronicStructureProblem(driver)\n",
    "\n",
    "    # 2. Map the fermionic Hamiltonian to the qubit Hamiltonian\n",
    "    mapper = BravyiKitaevMapper()\n",
    "    converter = QubitConverter(mapper=mapper, two_qubit_reduction=True)\n",
    "    num_particles = (problem.molecule_data_transformed.num_alpha,\n",
    "                    problem.molecule_data_transformed.num_beta)\n",
    "    qubit_op = converter.convert(problem.second_q_ops()[0], num_particles=num_particles)\n",
    "\n",
    "    # 3. Define the quantum instance, the ansatz, and the classical optimizer\n",
    "    quantum_instance = QuantumInstance(Aer.get_backend('statevector_simulator'))\n",
    "    ansatz = EfficientSU2(qubit_op.num_qubits, reps=1)\n",
    "    optimizer = COBYLA(maxiter=1000)\n",
    "\n",
    "    # 4. Run VQE\n",
    "    vqe = VQE(ansatz, optimizer, quantum_instance=quantum_instance)\n",
    "    result = vqe.compute_minimum_eigenvalue(qubit_op)\n",
    "    return result.eigenvalue.real\n",
    "\n",
    "# Example usage:\n",
    "atom_config = 'Li .0 .0 .0'\n",
    "energy = compute_ground_state(atom_config)\n",
    "print(f\"Ground state energy for {atom_config}: {energy:.4f}\")\n"
   ]
  }
 ],
 "metadata": {
  "kernelspec": {
   "display_name": "QI_env",
   "language": "python",
   "name": "python3"
  },
  "language_info": {
   "codemirror_mode": {
    "name": "ipython",
    "version": 3
   },
   "file_extension": ".py",
   "mimetype": "text/x-python",
   "name": "python",
   "nbconvert_exporter": "python",
   "pygments_lexer": "ipython3",
   "version": "3.11.0"
  }
 },
 "nbformat": 4,
 "nbformat_minor": 2
}
